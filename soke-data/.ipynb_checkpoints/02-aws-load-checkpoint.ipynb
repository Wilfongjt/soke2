{
 "cells": [
  {
   "cell_type": "markdown",
   "metadata": {},
   "source": [
    "# AWS SDK\n",
    "Data Processing \n",
    "\n",
    "\n",
    "## DynamoDB Local and Remote\n",
    "This Notebook connects to local DynamoDb.  \n",
    "```\n",
    "# you should build the docker container at least once.\n",
    "docker-compose build\n",
    "```\n",
    "local requires you to launch the Dynamodb locally\n",
    "```\n",
    "docker-compose up\n",
    "```\n",
    "\n",
    "\n",
    "# The gateway is handled in node"
   ]
  },
  {
   "cell_type": "markdown",
   "metadata": {},
   "source": [
    "## Issues\n",
    "\n",
    "* need to make typifyItem go deep into JSON\n",
    "* need to create version that creates, reads, writes, updates REMOTE aws tables\n",
    "* need to convert the keys from a # seperator to . separator d#1 goes to d.1\n",
    "* 2019-06-01 need to setup (developement, test, prod) versions of tables\n",
    "* 2019-05-31 add access_key to .env\n",
    "* 2019-05-31 add secret_key to .env\n"
   ]
  },
  {
   "cell_type": "code",
   "execution_count": 1,
   "metadata": {},
   "outputs": [],
   "source": [
    "from dotenv import load_dotenv\n",
    "load_dotenv(verbose=True)\n",
    "import os\n",
    "from os.path import isfile, join\n",
    "from pprint import pprint\n",
    "import json\n",
    "# from interface import implements, Interface \n",
    "import interface \n",
    "from util import Util\n",
    "\n",
    "#from buffered_writer import BufferedWriter\n",
    "\n",
    "#from parameters import Parameters\n",
    "from data_process_interface import DataProcessInterface\n",
    "from stubdb import StubDB\n",
    "\n",
    "import boto3\n",
    "from boto3.dynamodb.conditions import Key\n",
    "# data processing\n",
    "from document_process import DocumentProcess\n",
    "from movie_process import MovieProcess\n",
    "\n",
    "util = Util()"
   ]
  },
  {
   "cell_type": "code",
   "execution_count": 2,
   "metadata": {},
   "outputs": [
    {
     "name": "stdout",
     "output_type": "stream",
     "text": [
      "{'key': 'documents', 'region': 'us-east-2', 'suffix': 'dev', 'target': 'remote'}\n"
     ]
    }
   ],
   "source": [
    "# process_config is written to process_config.json by 01-process-data.ipynb\n",
    "# load process_config.json\n",
    "\n",
    "process_config =  util.readProcessConfig()\n",
    "\n",
    "pprint(process_config)"
   ]
  },
  {
   "cell_type": "code",
   "execution_count": 3,
   "metadata": {},
   "outputs": [],
   "source": [
    "\n",
    "API_URL = os.getenv(\"API_URL\")\n",
    "API_USER = os.getenv(\"API_USER\")\n",
    "AWS_ACCESS_KEY_ID=os.getenv(\"AWS_ACCESS_KEY_ID\")\n",
    "AWS_SECRET_ACCESS_KEY_ID=os.getenv(\"AWS_SECRET_ACCESS_KEY_ID\")\n",
    "REGION_NAME=os.getenv(\"REGION_NAME\")\n",
    "\n"
   ]
  },
  {
   "cell_type": "markdown",
   "metadata": {},
   "source": [
    "## Connect and Load Table Definitions"
   ]
  },
  {
   "cell_type": "code",
   "execution_count": 4,
   "metadata": {
    "scrolled": false
   },
   "outputs": [
    {
     "name": "stdout",
     "output_type": "stream",
     "text": [
      "------------\n",
      "tb:  documents\n",
      "tb:  music\n",
      "tb:  movies\n",
      "---------\n",
      "remote db connecting...\n",
      "self.db:  dynamodb.ServiceResource()\n",
      "remote client connecting...\n"
     ]
    },
    {
     "ename": "ClientError",
     "evalue": "An error occurred (UnrecognizedClientException) when calling the ListTables operation: The security token included in the request is invalid.",
     "output_type": "error",
     "traceback": [
      "\u001b[0;31m---------------------------------------------------------------------------\u001b[0m",
      "\u001b[0;31mClientError\u001b[0m                               Traceback (most recent call last)",
      "\u001b[0;32m<ipython-input-4-9971b29fb6e9>\u001b[0m in \u001b[0;36m<module>\u001b[0;34m\u001b[0m\n\u001b[1;32m     14\u001b[0m                 region_name=process_config['region'])\\\n\u001b[1;32m     15\u001b[0m \u001b[0;34m.\u001b[0m\u001b[0mloadTableHistories\u001b[0m\u001b[0;34m(\u001b[0m\u001b[0mhistories\u001b[0m\u001b[0;34m,\u001b[0m \u001b[0menv_suffix\u001b[0m\u001b[0;34m=\u001b[0m\u001b[0mprocess_config\u001b[0m\u001b[0;34m[\u001b[0m\u001b[0;34m'suffix'\u001b[0m\u001b[0;34m]\u001b[0m\u001b[0;34m)\u001b[0m\u001b[0;31m\\\u001b[0m\u001b[0;34m\u001b[0m\u001b[0;34m\u001b[0m\u001b[0m\n\u001b[0;32m---> 16\u001b[0;31m \u001b[0;34m.\u001b[0m\u001b[0mconnect\u001b[0m\u001b[0;34m(\u001b[0m\u001b[0mprocess_config\u001b[0m\u001b[0;34m[\u001b[0m\u001b[0;34m'target'\u001b[0m\u001b[0;34m]\u001b[0m\u001b[0;34m)\u001b[0m\u001b[0;34m\u001b[0m\u001b[0;34m\u001b[0m\u001b[0m\n\u001b[0m\u001b[1;32m     17\u001b[0m \u001b[0;34m\u001b[0m\u001b[0m\n\u001b[1;32m     18\u001b[0m \u001b[0mprint\u001b[0m\u001b[0;34m(\u001b[0m\u001b[0;34m'--------'\u001b[0m\u001b[0;34m)\u001b[0m\u001b[0;34m\u001b[0m\u001b[0;34m\u001b[0m\u001b[0m\n",
      "\u001b[0;32m~/Documents/Github/Wilfongjt/01-Soke/01-In-Progress/07-soke-data-document/soke/soke-data/stubdb.py\u001b[0m in \u001b[0;36mconnect\u001b[0;34m(self, local_remote)\u001b[0m\n\u001b[1;32m     42\u001b[0m             \u001b[0mself\u001b[0m\u001b[0;34m.\u001b[0m\u001b[0mconnect_local\u001b[0m\u001b[0;34m(\u001b[0m\u001b[0;34m)\u001b[0m\u001b[0;34m\u001b[0m\u001b[0;34m\u001b[0m\u001b[0m\n\u001b[1;32m     43\u001b[0m         \u001b[0;32melse\u001b[0m\u001b[0;34m:\u001b[0m\u001b[0;34m\u001b[0m\u001b[0;34m\u001b[0m\u001b[0m\n\u001b[0;32m---> 44\u001b[0;31m             \u001b[0mself\u001b[0m\u001b[0;34m.\u001b[0m\u001b[0mconnect_remote\u001b[0m\u001b[0;34m(\u001b[0m\u001b[0;34m)\u001b[0m\u001b[0;34m\u001b[0m\u001b[0;34m\u001b[0m\u001b[0m\n\u001b[0m\u001b[1;32m     45\u001b[0m         \u001b[0;32mreturn\u001b[0m \u001b[0mself\u001b[0m\u001b[0;34m\u001b[0m\u001b[0;34m\u001b[0m\u001b[0m\n\u001b[1;32m     46\u001b[0m \u001b[0;34m\u001b[0m\u001b[0m\n",
      "\u001b[0;32m~/Documents/Github/Wilfongjt/01-Soke/01-In-Progress/07-soke-data-document/soke/soke-data/stubdb.py\u001b[0m in \u001b[0;36mconnect_remote\u001b[0;34m(self)\u001b[0m\n\u001b[1;32m     61\u001b[0m                                    \u001b[0mregion_name\u001b[0m\u001b[0;34m=\u001b[0m\u001b[0mself\u001b[0m\u001b[0;34m.\u001b[0m\u001b[0mregion_name\u001b[0m\u001b[0;34m\u001b[0m\u001b[0;34m\u001b[0m\u001b[0m\n\u001b[1;32m     62\u001b[0m                                   )\n\u001b[0;32m---> 63\u001b[0;31m         \u001b[0mprint\u001b[0m\u001b[0;34m(\u001b[0m\u001b[0;34m'list tables: '\u001b[0m\u001b[0;34m,\u001b[0m\u001b[0mself\u001b[0m\u001b[0;34m.\u001b[0m\u001b[0mclient\u001b[0m\u001b[0;34m.\u001b[0m\u001b[0mlist_tables\u001b[0m\u001b[0;34m(\u001b[0m\u001b[0;34m)\u001b[0m\u001b[0;34m)\u001b[0m\u001b[0;34m\u001b[0m\u001b[0;34m\u001b[0m\u001b[0m\n\u001b[0m\u001b[1;32m     64\u001b[0m \u001b[0;34m\u001b[0m\u001b[0m\n\u001b[1;32m     65\u001b[0m         \u001b[0mprint\u001b[0m\u001b[0;34m(\u001b[0m\u001b[0;34m'connecting...out'\u001b[0m\u001b[0;34m)\u001b[0m\u001b[0;34m\u001b[0m\u001b[0;34m\u001b[0m\u001b[0m\n",
      "\u001b[0;32m~/.local/lib/python3.7/site-packages/botocore/client.py\u001b[0m in \u001b[0;36m_api_call\u001b[0;34m(self, *args, **kwargs)\u001b[0m\n\u001b[1;32m    355\u001b[0m                     \"%s() only accepts keyword arguments.\" % py_operation_name)\n\u001b[1;32m    356\u001b[0m             \u001b[0;31m# The \"self\" in this scope is referring to the BaseClient.\u001b[0m\u001b[0;34m\u001b[0m\u001b[0;34m\u001b[0m\u001b[0;34m\u001b[0m\u001b[0m\n\u001b[0;32m--> 357\u001b[0;31m             \u001b[0;32mreturn\u001b[0m \u001b[0mself\u001b[0m\u001b[0;34m.\u001b[0m\u001b[0m_make_api_call\u001b[0m\u001b[0;34m(\u001b[0m\u001b[0moperation_name\u001b[0m\u001b[0;34m,\u001b[0m \u001b[0mkwargs\u001b[0m\u001b[0;34m)\u001b[0m\u001b[0;34m\u001b[0m\u001b[0;34m\u001b[0m\u001b[0m\n\u001b[0m\u001b[1;32m    358\u001b[0m \u001b[0;34m\u001b[0m\u001b[0m\n\u001b[1;32m    359\u001b[0m         \u001b[0m_api_call\u001b[0m\u001b[0;34m.\u001b[0m\u001b[0m__name__\u001b[0m \u001b[0;34m=\u001b[0m \u001b[0mstr\u001b[0m\u001b[0;34m(\u001b[0m\u001b[0mpy_operation_name\u001b[0m\u001b[0;34m)\u001b[0m\u001b[0;34m\u001b[0m\u001b[0;34m\u001b[0m\u001b[0m\n",
      "\u001b[0;32m~/.local/lib/python3.7/site-packages/botocore/client.py\u001b[0m in \u001b[0;36m_make_api_call\u001b[0;34m(self, operation_name, api_params)\u001b[0m\n\u001b[1;32m    659\u001b[0m             \u001b[0merror_code\u001b[0m \u001b[0;34m=\u001b[0m \u001b[0mparsed_response\u001b[0m\u001b[0;34m.\u001b[0m\u001b[0mget\u001b[0m\u001b[0;34m(\u001b[0m\u001b[0;34m\"Error\"\u001b[0m\u001b[0;34m,\u001b[0m \u001b[0;34m{\u001b[0m\u001b[0;34m}\u001b[0m\u001b[0;34m)\u001b[0m\u001b[0;34m.\u001b[0m\u001b[0mget\u001b[0m\u001b[0;34m(\u001b[0m\u001b[0;34m\"Code\"\u001b[0m\u001b[0;34m)\u001b[0m\u001b[0;34m\u001b[0m\u001b[0;34m\u001b[0m\u001b[0m\n\u001b[1;32m    660\u001b[0m             \u001b[0merror_class\u001b[0m \u001b[0;34m=\u001b[0m \u001b[0mself\u001b[0m\u001b[0;34m.\u001b[0m\u001b[0mexceptions\u001b[0m\u001b[0;34m.\u001b[0m\u001b[0mfrom_code\u001b[0m\u001b[0;34m(\u001b[0m\u001b[0merror_code\u001b[0m\u001b[0;34m)\u001b[0m\u001b[0;34m\u001b[0m\u001b[0;34m\u001b[0m\u001b[0m\n\u001b[0;32m--> 661\u001b[0;31m             \u001b[0;32mraise\u001b[0m \u001b[0merror_class\u001b[0m\u001b[0;34m(\u001b[0m\u001b[0mparsed_response\u001b[0m\u001b[0;34m,\u001b[0m \u001b[0moperation_name\u001b[0m\u001b[0;34m)\u001b[0m\u001b[0;34m\u001b[0m\u001b[0;34m\u001b[0m\u001b[0m\n\u001b[0m\u001b[1;32m    662\u001b[0m         \u001b[0;32melse\u001b[0m\u001b[0;34m:\u001b[0m\u001b[0;34m\u001b[0m\u001b[0;34m\u001b[0m\u001b[0m\n\u001b[1;32m    663\u001b[0m             \u001b[0;32mreturn\u001b[0m \u001b[0mparsed_response\u001b[0m\u001b[0;34m\u001b[0m\u001b[0;34m\u001b[0m\u001b[0m\n",
      "\u001b[0;31mClientError\u001b[0m: An error occurred (UnrecognizedClientException) when calling the ListTables operation: The security token included in the request is invalid."
     ]
    }
   ],
   "source": [
    "#########\n",
    "# CREATE STUBDB\n",
    "##\n",
    "db_name='dynamodb'\n",
    "endpoint_url='http://localhost:8000'\n",
    "histories = 'table.histories.json' # split create table and gsi\n",
    "\n",
    "stubDB = None\n",
    "\n",
    "stubDB = StubDB(db_name=db_name,\\\n",
    "                endpoint_url=endpoint_url,\\\n",
    "                aws_access_key_id=AWS_ACCESS_KEY_ID,\\\n",
    "                aws_secret_access_key=AWS_SECRET_ACCESS_KEY_ID,\\\n",
    "                region_name=process_config['region'])\\\n",
    ".loadTableHistories(histories, env_suffix=process_config['suffix'])\\\n",
    ".connect(process_config['target'])\n",
    "    \n",
    "print('--------')\n",
    "\n",
    "# rename the key to reflect the environment dev, test, or prod\n",
    "for key in stubDB.table_histories:\n",
    "    keyname = key \n",
    "    for item in stubDB.table_histories[key]:\n",
    "        tb_name = '{}_{}'.format(item['TableName'], process_config['suffix'])\n",
    "        item['TableName']=tb_name      \n",
    "\n"
   ]
  },
  {
   "cell_type": "code",
   "execution_count": 16,
   "metadata": {
    "scrolled": false
   },
   "outputs": [
    {
     "name": "stdout",
     "output_type": "stream",
     "text": [
      "['documents_dev']\n"
     ]
    }
   ],
   "source": [
    "pprint(stubDB.getTableList())"
   ]
  },
  {
   "cell_type": "code",
   "execution_count": 17,
   "metadata": {},
   "outputs": [
    {
     "data": {
      "text/plain": [
       "'\\nclass QueryButtons:\\n    \\n    def __init__(self, stubDB, table_name_key, env_suffix):\\n      \\n        self.stubDB = stubDB\\n        self.env_suffix = env_suffix\\n        self.table_name = stubDB.getTableName(table_name_key)\\n        self.table_name_key = table_name_key\\n          \\n        self.query_10_button =widgets.Button(description=\"Query {} top 10\".format(self.table_name))\\n        self.query_GSI_button =widgets.Button(description=\"GSI {} \".format(self.table_name))\\n        \\n    def query_GSI_on_button_clicked(self,b):   \\n        try:\\n            response = {\\'Items\\': \\'Undefined\\'}\\n            #if self.table_name == \\'documents\\':\\n            db = boto3.resource(\\'dynamodb\\',\\n                 endpoint_url=\\'http://localhost:8000\\',\\n                 aws_access_key_id=AWS_ACCESS_KEY_ID,\\n                 aws_secret_access_key=AWS_SECRET_ACCESS_KEY_ID\\n                )\\n\\n            document_table = db.Table(self.table_name)\\n\\n            if self.table_name_key == \\'documents\\':\\n                response = document_table.query(\\n                    IndexName=\\'gsi_1\\',\\n                    KeyConditionExpression=Key(\\'sk\\').eq(\\'michigan.1\\')\\n                )\\n            else:    \\n                print(\\'Sorry no GSI for {}\\'.format(self.table_name))    \\n                \\n            if self.table_name_key == \\'movies\\':\\n                print(\\'Sorry no GSI for {}\\'.format(self.table_name)) \\n                \\n            pprint(response[\\'Items\\'])\\n        except NameError as nameerror:\\n            print(nameerror)\\n            print(\\'Bad query \\')\\n            \\n    def query_10_on_button_clicked(self,b):\\n    \\n        try:\\n            response = {}\\n            #if self.table_name == \\'documents\\':\\n            db = boto3.resource(\\'dynamodb\\',\\n                 endpoint_url=\\'http://localhost:8000\\',\\n                 aws_access_key_id=AWS_ACCESS_KEY_ID,\\n                 aws_secret_access_key=AWS_SECRET_ACCESS_KEY_ID\\n                )\\n            print(\\'table_name: \\', self.table_name)\\n            print(\\'table_name_key: \\', self.table_name_key)\\n            \\n            document_table = db.Table(self.table_name)\\n            \\n            if self.table_name_key == \\'documents\\':\\n                response = document_table.query(\\n                    KeyConditionExpression=Key(\\'pk\\').eq(\\'d.2\\'),\\n                )\\n                \\n            if self.table_name_key == \\'movies\\':\\n                \\n                response = document_table.query(\\n                    KeyConditionExpression=Key(\\'year\\').eq(\\'1984\\')\\n                )    \\n            \\n            pprint(response[\\'Items\\'])\\n            \\n        except NameError as nameerror:\\n            print(nameerror)\\n            print(\\'Bad query \\')\\n        \\n    def display(self):\\n       \\n        self.query_10_button.on_click(self.query_10_on_button_clicked)\\n        self.query_GSI_button.on_click(self.query_GSI_on_button_clicked)\\n        display(self.query_10_button)\\n        display(self.query_GSI_button)\\n        return self\\n'"
      ]
     },
     "execution_count": 17,
     "metadata": {},
     "output_type": "execute_result"
    }
   ],
   "source": [
    "import ipywidgets as widgets\n",
    "from IPython.display import display\n",
    "\n",
    "class SystemButtons:\n",
    "    def __init__(self, stubDB):\n",
    "        self.stubDB = stubDB\n",
    "        self.show_button = widgets.Button(description=\"Show Tables \")\n",
    "        \n",
    "    def show_on_button_clicked(self, b):\n",
    "        print(self.stubDB.getTableList())\n",
    "        \n",
    "    def display(self):\n",
    "        self.show_button.on_click(self.show_on_button_clicked)\n",
    "        display(self.show_button)\n",
    "        return self\n",
    "        \n",
    "class TableButtons:\n",
    "    def __init__(self, stubDB, table_name_key, env_suffix):\n",
    "        self.stubDB = stubDB\n",
    "        self.env_suffix = env_suffix\n",
    "        self.table_name = stubDB.getTableName(table_name_key)\n",
    "        self.table_name_key = table_name_key\n",
    "        # self.table_def = table_def\n",
    "        self.table_history = self.stubDB.table_histories[self.table_name_key]\n",
    "        \n",
    "        self.create_button =widgets.Button(description=\"Create {}\".format(self.table_name))\n",
    "        #self.update_table_button = widgets.Button(description=\"Update {}\".format(self.table_name)) \n",
    "        self.del_button = widgets.Button(description=\"Delete {}\".format(self.table_name))        \n",
    "        self.count_button = widgets.Button(description=\"Count Local {} Data\".format(self.table_name))\n",
    "        self.batch_load_button =widgets.Button(description=\"Batch Load {}\".format(self.table_name))\n",
    "        \n",
    "    def create_on_button_clicked(self, b):\n",
    "\n",
    "        for tdef in self.table_history:\n",
    "            if 'KeySchema' in tdef:\n",
    "                try:\n",
    "                    print('A:')\n",
    "                    pprint(tdef)\n",
    "                    self.stubDB.client.create_table(**tdef)\n",
    "                except NameError as nameerror:\n",
    "                    print(nameerror)\n",
    "                    print('table {} already created.'.format(self.table_name))\n",
    "            else:     \n",
    "                try:\n",
    "                    print('B:')\n",
    "                    pprint(tdef)\n",
    "                    self.stubDB.client.update_table(**tdef)\n",
    "                except NameError as nameerror:\n",
    "                    print(nameerror)\n",
    "                    print('table {} already updated.'.format(self.table_name))\n",
    "                    \n",
    "    def count_on_button_clicked(self,b):\n",
    "        #print('count')\n",
    "        try:\n",
    "            #table = self.stubDB.db.Table(self.table_name)\n",
    "            #table_name = self.table_history[0]['TableName']\n",
    "            \n",
    "            table = self.stubDB.db.Table(self.table_name)\n",
    "            print('table: ', table.item_count)\n",
    "        except:\n",
    "            print('Table {} doesnt exist'.format(self.table_name))\n",
    "        \n",
    "    def del_on_button_clicked(self, b):\n",
    "        #self.stubDB.deleteTable(self.table_name)  \n",
    "        try:\n",
    "            # table_name = self.table_history[0]['TableName']\n",
    "            table = self.stubDB.db.Table(self.table_name)\n",
    "            table.delete()\n",
    "            #self.stubDB.deleteTable(table_name)\n",
    "            #table = self.db.Table(tablename)  \n",
    "            #table.delete()\n",
    "            #waiter = this.client.get_waiter('table_not_exists')\n",
    "            #waiter.wait(TableName=tablename)\n",
    "            #table = self.stubDB.db.Table(tablename)\n",
    "            #table.delete()\n",
    "        except NameError as nameerror:\n",
    "            print(nameerror)\n",
    "            print('failed to delete {}'.format(self.table_name))\n",
    "             \n",
    "    def batch_load_on_button_clicked(self, b):\n",
    "        self.stubDB.loadBatchTableData(self.table_name_key, self.env_suffix, 'local')\n",
    "    \n",
    "    def display(self):\n",
    "        #self.update_table_button.on_click(self.update_table_on_button_clicked)\n",
    "        self.create_button.on_click(self.create_on_button_clicked)\n",
    "        self.del_button.on_click(self.del_on_button_clicked)\n",
    "        self.count_button.on_click(self.count_on_button_clicked)\n",
    "        self.batch_load_button.on_click(self.batch_load_on_button_clicked)\n",
    "        #display(self.update_table_button)\n",
    "        display(self.create_button)\n",
    "        display(self.del_button)\n",
    "        display(self.count_button)\n",
    "        display(self.batch_load_button)\n",
    "        return self\n",
    "\n"
   ]
  },
  {
   "cell_type": "markdown",
   "metadata": {},
   "source": [
    "\n"
   ]
  },
  {
   "cell_type": "code",
   "execution_count": 18,
   "metadata": {
    "scrolled": true
   },
   "outputs": [
    {
     "data": {
      "application/vnd.jupyter.widget-view+json": {
       "model_id": "29a6a8e945434fe98ceb3e0415a73697",
       "version_major": 2,
       "version_minor": 0
      },
      "text/plain": [
       "Button(description='Show Tables ', style=ButtonStyle())"
      ]
     },
     "metadata": {},
     "output_type": "display_data"
    },
    {
     "data": {
      "application/vnd.jupyter.widget-view+json": {
       "model_id": "620ab80101d34dd2bd974e7cb42679d0",
       "version_major": 2,
       "version_minor": 0
      },
      "text/plain": [
       "Button(description='Create documents_dev', style=ButtonStyle())"
      ]
     },
     "metadata": {},
     "output_type": "display_data"
    },
    {
     "data": {
      "application/vnd.jupyter.widget-view+json": {
       "model_id": "4251d10adb3f45d59855bbe93ddca454",
       "version_major": 2,
       "version_minor": 0
      },
      "text/plain": [
       "Button(description='Delete documents_dev', style=ButtonStyle())"
      ]
     },
     "metadata": {},
     "output_type": "display_data"
    },
    {
     "data": {
      "application/vnd.jupyter.widget-view+json": {
       "model_id": "eb6c00de2f4f4b329eab34628615e9ad",
       "version_major": 2,
       "version_minor": 0
      },
      "text/plain": [
       "Button(description='Count Local documents_dev Data', style=ButtonStyle())"
      ]
     },
     "metadata": {},
     "output_type": "display_data"
    },
    {
     "data": {
      "application/vnd.jupyter.widget-view+json": {
       "model_id": "178d4e480b0b42b2821e67cb1523c9bd",
       "version_major": 2,
       "version_minor": 0
      },
      "text/plain": [
       "Button(description='Batch Load documents_dev', style=ButtonStyle())"
      ]
     },
     "metadata": {},
     "output_type": "display_data"
    },
    {
     "name": "stdout",
     "output_type": "stream",
     "text": [
      "source_file:  ../../../data/documents/output/0.documents.json\n",
      "wait...\n"
     ]
    }
   ],
   "source": [
    "stubDB.dryrun = True # dont write to aws\n",
    "stubDB.dryrun = False\n",
    "systemButton =  SystemButtons(stubDB).display()   \n",
    "tableButtons = TableButtons(stubDB, \n",
    "                            process_config['key'], \n",
    "                            process_config['suffix']\n",
    "                           ).display()"
   ]
  }
 ],
 "metadata": {
  "kernelspec": {
   "display_name": "Python 3",
   "language": "python",
   "name": "python3"
  },
  "language_info": {
   "codemirror_mode": {
    "name": "ipython",
    "version": 3
   },
   "file_extension": ".py",
   "mimetype": "text/x-python",
   "name": "python",
   "nbconvert_exporter": "python",
   "pygments_lexer": "ipython3",
   "version": "3.7.1"
  }
 },
 "nbformat": 4,
 "nbformat_minor": 2
}
