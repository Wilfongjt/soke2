{
 "cells": [
  {
   "cell_type": "markdown",
   "metadata": {},
   "source": [
    "# AWS SDK\n",
    "Data Processing \n",
    "\n",
    "\n",
    "## DynamoDB Local and Remote\n",
    "This Notebook connects to local DynamoDb.  \n",
    "```\n",
    "# you should build the docker container at least once.\n",
    "docker-compose build\n",
    "```\n",
    "local requires you to launch the Dynamodb locally\n",
    "```\n",
    "docker-compose up\n",
    "```\n",
    "\n",
    "\n",
    "# The gateway is handled in node"
   ]
  },
  {
   "cell_type": "markdown",
   "metadata": {},
   "source": [
    "## Issues\n",
    "\n",
    "* need to make typifyItem go deep into JSON\n",
    "* need to create version that creates, reads, writes, updates REMOTE aws tables\n",
    "* need to convert the keys from a # seperator to . separator d#1 goes to d.1\n",
    "* 2019-06-01 need to setup (developement, test, prod) versions of tables\n",
    "* 2019-05-31 add access_key to .env\n",
    "* 2019-05-31 add secret_key to .env\n"
   ]
  },
  {
   "cell_type": "code",
   "execution_count": 1,
   "metadata": {},
   "outputs": [],
   "source": [
    "from dotenv import load_dotenv\n",
    "load_dotenv(verbose=True)\n",
    "import os\n",
    "from os.path import isfile, join\n",
    "from pprint import pprint\n",
    "import json\n",
    "# from interface import implements, Interface \n",
    "import interface \n",
    "from util import Util\n",
    "\n",
    "#from buffered_writer import BufferedWriter\n",
    "\n",
    "#from parameters import Parameters\n",
    "from data_process_interface import DataProcessInterface\n",
    "from stubdb import StubDB\n",
    "\n",
    "import boto3\n",
    "from boto3.dynamodb.conditions import Key\n",
    "# data processing\n",
    "from document_process import DocumentProcess\n",
    "from movie_process import MovieProcess\n",
    "\n",
    "util = Util()"
   ]
  },
  {
   "cell_type": "code",
   "execution_count": 2,
   "metadata": {},
   "outputs": [
    {
     "name": "stdout",
     "output_type": "stream",
     "text": [
      "{'key': 'documents', 'region': 'us-east-1', 'suffix': 'dev', 'target': 'remote'}\n"
     ]
    }
   ],
   "source": [
    "# process_config is written to process_config.json by 01-process-data.ipynb\n",
    "# load process_config.json\n",
    "\n",
    "process_config =  util.readProcessConfig()\n",
    "\n",
    "pprint(process_config)"
   ]
  },
  {
   "cell_type": "code",
   "execution_count": 3,
   "metadata": {},
   "outputs": [],
   "source": [
    "\n",
    "API_URL = os.getenv(\"API_URL\")\n",
    "API_USER = os.getenv(\"API_USER\")\n",
    "AWS_ACCESS_KEY_ID=os.getenv(\"AWS_ACCESS_KEY_ID\")\n",
    "AWS_SECRET_ACCESS_KEY_ID=os.getenv(\"AWS_SECRET_ACCESS_KEY_ID\")\n",
    "REGION_NAME=os.getenv(\"REGION_NAME\")\n",
    "\n",
    "assert API_URL != None  \n",
    "assert API_USER != None\n",
    "assert AWS_ACCESS_KEY_ID != None \n",
    "assert AWS_SECRET_ACCESS_KEY_ID != None \n",
    "assert REGION_NAME != None "
   ]
  },
  {
   "cell_type": "markdown",
   "metadata": {},
   "source": [
    "## Connect and Load Table Definitions"
   ]
  },
  {
   "cell_type": "code",
   "execution_count": 4,
   "metadata": {
    "scrolled": false
   },
   "outputs": [
    {
     "name": "stdout",
     "output_type": "stream",
     "text": [
      "------------\n",
      "tb:  documents\n",
      "tb:  music\n",
      "tb:  movies\n",
      "---------\n",
      "remote db connecting...\n",
      "remote client connecting...\n",
      "connecting...out\n",
      "--------\n"
     ]
    }
   ],
   "source": [
    "#########\n",
    "# CREATE STUBDB\n",
    "##\n",
    "db_name='dynamodb'\n",
    "endpoint_url='http://localhost:8000'\n",
    "histories = 'table.histories.json' # split create table and gsi\n",
    "\n",
    "stubDB = None\n",
    "\n",
    "stubDB = StubDB(db_name=db_name,\\\n",
    "                endpoint_url=endpoint_url,\\\n",
    "                aws_access_key_id=AWS_ACCESS_KEY_ID,\\\n",
    "                aws_secret_access_key=AWS_SECRET_ACCESS_KEY_ID,\\\n",
    "                region_name=process_config['region'])\\\n",
    ".loadTableHistories(histories, env_suffix=process_config['suffix'])\\\n",
    ".connect(process_config['target'])\n",
    "    \n",
    "print('--------')\n",
    "\n",
    "# rename the key to reflect the environment dev, test, or prod\n",
    "for key in stubDB.table_histories:\n",
    "    keyname = key \n",
    "    for item in stubDB.table_histories[key]:\n",
    "        tb_name = '{}_{}'.format(item['TableName'], process_config['suffix'])\n",
    "        item['TableName']=tb_name      \n",
    "\n"
   ]
  },
  {
   "cell_type": "code",
   "execution_count": 5,
   "metadata": {
    "scrolled": false
   },
   "outputs": [
    {
     "name": "stdout",
     "output_type": "stream",
     "text": [
      "['documents_dev', 'movies_dev']\n"
     ]
    }
   ],
   "source": [
    "pprint(stubDB.getTableList())"
   ]
  },
  {
   "cell_type": "code",
   "execution_count": 6,
   "metadata": {},
   "outputs": [],
   "source": [
    "import ipywidgets as widgets\n",
    "from IPython.display import display\n",
    "\n",
    "class SystemButtons:\n",
    "    def __init__(self, stubDB):\n",
    "        self.stubDB = stubDB\n",
    "        self.show_button = widgets.Button(description=\"Show Tables \")\n",
    "        \n",
    "    def show_on_button_clicked(self, b):\n",
    "        print(self.stubDB.getTableList())\n",
    "        \n",
    "    def display(self):\n",
    "        self.show_button.on_click(self.show_on_button_clicked)\n",
    "        display(self.show_button)\n",
    "        return self\n",
    "        \n",
    "class TableButtons:\n",
    "    def __init__(self, stubDB, table_name_key, env_suffix):\n",
    "        self.stubDB = stubDB\n",
    "        self.env_suffix = env_suffix\n",
    "        self.table_name = stubDB.getTableName(table_name_key)\n",
    "        self.table_name_key = table_name_key\n",
    "        # self.table_def = table_def\n",
    "        self.table_history = self.stubDB.table_histories[self.table_name_key]\n",
    "        \n",
    "        self.create_button =widgets.Button(description=\"Create {}\".format(self.table_name))\n",
    "        #self.update_table_button = widgets.Button(description=\"Update {}\".format(self.table_name)) \n",
    "        self.del_button = widgets.Button(description=\"Delete {}\".format(self.table_name))        \n",
    "        self.count_button = widgets.Button(description=\"Count Local {} Data\".format(self.table_name))\n",
    "        self.batch_load_button =widgets.Button(description=\"Batch Load {}\".format(self.table_name))\n",
    "        \n",
    "    def create_on_button_clicked(self, b):\n",
    "\n",
    "        for tdef in self.table_history:\n",
    "            if 'KeySchema' in tdef:\n",
    "                try:\n",
    "                    print('A:')\n",
    "                    pprint(tdef)\n",
    "                    self.stubDB.client.create_table(**tdef)\n",
    "                except NameError as nameerror:\n",
    "                    print(nameerror)\n",
    "                    print('table {} already created.'.format(self.table_name))\n",
    "            else:     \n",
    "                try:\n",
    "                    print('B:')\n",
    "                    pprint(tdef)\n",
    "                    self.stubDB.client.update_table(**tdef)\n",
    "                except NameError as nameerror:\n",
    "                    print(nameerror)\n",
    "                    print('table {} already updated.'.format(self.table_name))\n",
    "                    \n",
    "    def count_on_button_clicked(self,b):\n",
    "        #print('count')\n",
    "        try:\n",
    "            #table = self.stubDB.db.Table(self.table_name)\n",
    "            #table_name = self.table_history[0]['TableName']\n",
    "            \n",
    "            table = self.stubDB.db.Table(self.table_name)\n",
    "            print('table: ', table.item_count)\n",
    "        except:\n",
    "            print('Table {} doesnt exist'.format(self.table_name))\n",
    "        \n",
    "    def del_on_button_clicked(self, b):\n",
    "        #self.stubDB.deleteTable(self.table_name)  \n",
    "        try:\n",
    "            # table_name = self.table_history[0]['TableName']\n",
    "            table = self.stubDB.db.Table(self.table_name)\n",
    "            table.delete()\n",
    "            #self.stubDB.deleteTable(table_name)\n",
    "            #table = self.db.Table(tablename)  \n",
    "            #table.delete()\n",
    "            #waiter = this.client.get_waiter('table_not_exists')\n",
    "            #waiter.wait(TableName=tablename)\n",
    "            #table = self.stubDB.db.Table(tablename)\n",
    "            #table.delete()\n",
    "        except NameError as nameerror:\n",
    "            print(nameerror)\n",
    "            print('failed to delete {}'.format(self.table_name))\n",
    "             \n",
    "    def batch_load_on_button_clicked(self, b):\n",
    "        print(self.table_name_key, self.env_suffix, 'local')\n",
    "        self.stubDB.loadBatchTableData(self.table_name_key, self.env_suffix, 'local')\n",
    "    \n",
    "    def display(self):\n",
    "        #self.update_table_button.on_click(self.update_table_on_button_clicked)\n",
    "        self.create_button.on_click(self.create_on_button_clicked)\n",
    "        self.del_button.on_click(self.del_on_button_clicked)\n",
    "        self.count_button.on_click(self.count_on_button_clicked)\n",
    "        self.batch_load_button.on_click(self.batch_load_on_button_clicked)\n",
    "        #display(self.update_table_button)\n",
    "        display(self.create_button)\n",
    "        display(self.del_button)\n",
    "        display(self.count_button)\n",
    "        display(self.batch_load_button)\n",
    "        return self\n",
    "\n"
   ]
  },
  {
   "cell_type": "markdown",
   "metadata": {},
   "source": [
    "\n"
   ]
  },
  {
   "cell_type": "code",
   "execution_count": 7,
   "metadata": {
    "scrolled": true
   },
   "outputs": [
    {
     "data": {
      "application/vnd.jupyter.widget-view+json": {
       "model_id": "84e64435eba349dc854f6421eb4aff8a",
       "version_major": 2,
       "version_minor": 0
      },
      "text/plain": [
       "Button(description='Show Tables ', style=ButtonStyle())"
      ]
     },
     "metadata": {},
     "output_type": "display_data"
    },
    {
     "data": {
      "application/vnd.jupyter.widget-view+json": {
       "model_id": "3d140ad0939f4b1781937c0b14570f5a",
       "version_major": 2,
       "version_minor": 0
      },
      "text/plain": [
       "Button(description='Create documents_dev', style=ButtonStyle())"
      ]
     },
     "metadata": {},
     "output_type": "display_data"
    },
    {
     "data": {
      "application/vnd.jupyter.widget-view+json": {
       "model_id": "5f11ccdb51444f4891455f9e5a9fe193",
       "version_major": 2,
       "version_minor": 0
      },
      "text/plain": [
       "Button(description='Delete documents_dev', style=ButtonStyle())"
      ]
     },
     "metadata": {},
     "output_type": "display_data"
    },
    {
     "data": {
      "application/vnd.jupyter.widget-view+json": {
       "model_id": "a6b491ef263e4e01b42a09915946b677",
       "version_major": 2,
       "version_minor": 0
      },
      "text/plain": [
       "Button(description='Count Local documents_dev Data', style=ButtonStyle())"
      ]
     },
     "metadata": {},
     "output_type": "display_data"
    },
    {
     "data": {
      "application/vnd.jupyter.widget-view+json": {
       "model_id": "69c9d51355af41c3b32f909a62ec3dbe",
       "version_major": 2,
       "version_minor": 0
      },
      "text/plain": [
       "Button(description='Batch Load documents_dev', style=ButtonStyle())"
      ]
     },
     "metadata": {},
     "output_type": "display_data"
    },
    {
     "name": "stdout",
     "output_type": "stream",
     "text": [
      "documents dev local\n",
      "source_file:  ../../../data/documents/output/0.documents.json\n",
      "wait...\n",
      "load:  ../../../data/documents/output/0.documents.json\n",
      "load:  ../../../data/documents/output/1.documents.json\n",
      "load:  ../../../data/documents/output/2.documents.json\n",
      "load:  ../../../data/documents/output/3.documents.json\n",
      "load:  ../../../data/documents/output/4.documents.json\n",
      "load:  ../../../data/documents/output/5.documents.json\n",
      "load:  ../../../data/documents/output/6.documents.json\n",
      "load:  ../../../data/documents/output/7.documents.json\n",
      "load:  ../../../data/documents/output/8.documents.json\n",
      "load:  ../../../data/documents/output/9.documents.json\n",
      "load:  ../../../data/documents/output/10.documents.json\n",
      "load:  ../../../data/documents/output/11.documents.json\n",
      "load:  ../../../data/documents/output/12.documents.json\n",
      "load:  ../../../data/documents/output/13.documents.json\n",
      "load:  ../../../data/documents/output/14.documents.json\n",
      "load:  ../../../data/documents/output/15.documents.json\n",
      "load:  ../../../data/documents/output/16.documents.json\n",
      "load:  ../../../data/documents/output/17.documents.json\n",
      "load:  ../../../data/documents/output/18.documents.json\n",
      "load:  ../../../data/documents/output/19.documents.json\n",
      "load:  ../../../data/documents/output/20.documents.json\n",
      "load:  ../../../data/documents/output/21.documents.json\n",
      "load:  ../../../data/documents/output/22.documents.json\n",
      "load:  ../../../data/documents/output/23.documents.json\n",
      "load:  ../../../data/documents/output/24.documents.json\n",
      "load:  ../../../data/documents/output/25.documents.json\n",
      "load:  ../../../data/documents/output/26.documents.json\n",
      "load:  ../../../data/documents/output/27.documents.json\n",
      "load:  ../../../data/documents/output/28.documents.json\n",
      "load:  ../../../data/documents/output/29.documents.json\n",
      "load:  ../../../data/documents/output/30.documents.json\n",
      "load:  ../../../data/documents/output/31.documents.json\n",
      "load:  ../../../data/documents/output/32.documents.json\n",
      "load:  ../../../data/documents/output/33.documents.json\n",
      "load:  ../../../data/documents/output/34.documents.json\n",
      "load:  ../../../data/documents/output/35.documents.json\n",
      "load:  ../../../data/documents/output/36.documents.json\n",
      "load:  ../../../data/documents/output/37.documents.json\n",
      "load:  ../../../data/documents/output/38.documents.json\n",
      "load:  ../../../data/documents/output/39.documents.json\n",
      "load:  ../../../data/documents/output/40.documents.json\n",
      "load:  ../../../data/documents/output/41.documents.json\n",
      "load:  ../../../data/documents/output/42.documents.json\n",
      "load:  ../../../data/documents/output/43.documents.json\n",
      "load:  ../../../data/documents/output/44.documents.json\n",
      "load:  ../../../data/documents/output/45.documents.json\n",
      "load:  ../../../data/documents/output/46.documents.json\n",
      "load:  ../../../data/documents/output/47.documents.json\n",
      "load:  ../../../data/documents/output/48.documents.json\n",
      "load:  ../../../data/documents/output/49.documents.json\n",
      "load:  ../../../data/documents/output/50.documents.json\n",
      "load:  ../../../data/documents/output/51.documents.json\n",
      "load:  ../../../data/documents/output/52.documents.json\n",
      "load:  ../../../data/documents/output/53.documents.json\n",
      "load:  ../../../data/documents/output/54.documents.json\n",
      "load:  ../../../data/documents/output/55.documents.json\n",
      "load:  ../../../data/documents/output/56.documents.json\n",
      "load:  ../../../data/documents/output/57.documents.json\n",
      "load:  ../../../data/documents/output/58.documents.json\n",
      "load:  ../../../data/documents/output/59.documents.json\n",
      "load:  ../../../data/documents/output/60.documents.json\n",
      "load:  ../../../data/documents/output/61.documents.json\n",
      "load:  ../../../data/documents/output/62.documents.json\n",
      "load:  ../../../data/documents/output/63.documents.json\n",
      "load:  ../../../data/documents/output/64.documents.json\n",
      "load:  ../../../data/documents/output/65.documents.json\n",
      "load:  ../../../data/documents/output/66.documents.json\n",
      "load:  ../../../data/documents/output/67.documents.json\n",
      "load:  ../../../data/documents/output/68.documents.json\n",
      "load:  ../../../data/documents/output/69.documents.json\n",
      "load:  ../../../data/documents/output/70.documents.json\n",
      "load:  ../../../data/documents/output/71.documents.json\n",
      "load:  ../../../data/documents/output/72.documents.json\n",
      "load:  ../../../data/documents/output/73.documents.json\n",
      "load:  ../../../data/documents/output/74.documents.json\n",
      "load:  ../../../data/documents/output/75.documents.json\n",
      "load:  ../../../data/documents/output/76.documents.json\n",
      "load:  ../../../data/documents/output/77.documents.json\n",
      "load:  ../../../data/documents/output/78.documents.json\n",
      "load:  ../../../data/documents/output/79.documents.json\n",
      "load:  ../../../data/documents/output/80.documents.json\n",
      "load:  ../../../data/documents/output/81.documents.json\n",
      "load:  ../../../data/documents/output/82.documents.json\n",
      "load:  ../../../data/documents/output/83.documents.json\n",
      "load:  ../../../data/documents/output/84.documents.json\n",
      "load:  ../../../data/documents/output/85.documents.json\n",
      "load:  ../../../data/documents/output/86.documents.json\n",
      "load:  ../../../data/documents/output/87.documents.json\n",
      "load:  ../../../data/documents/output/88.documents.json\n",
      "load:  ../../../data/documents/output/89.documents.json\n",
      "load:  ../../../data/documents/output/90.documents.json\n",
      "load:  ../../../data/documents/output/91.documents.json\n",
      "load:  ../../../data/documents/output/92.documents.json\n"
     ]
    }
   ],
   "source": [
    "stubDB.dryrun = True # dont write to aws\n",
    "stubDB.dryrun = False\n",
    "systemButton =  SystemButtons(stubDB).display()   \n",
    "tableButtons = TableButtons(stubDB, \n",
    "                            process_config['key'], \n",
    "                            process_config['suffix']\n",
    "                           ).display()"
   ]
  },
  {
   "cell_type": "code",
   "execution_count": null,
   "metadata": {},
   "outputs": [],
   "source": []
  }
 ],
 "metadata": {
  "kernelspec": {
   "display_name": "Python 3",
   "language": "python",
   "name": "python3"
  },
  "language_info": {
   "codemirror_mode": {
    "name": "ipython",
    "version": 3
   },
   "file_extension": ".py",
   "mimetype": "text/x-python",
   "name": "python",
   "nbconvert_exporter": "python",
   "pygments_lexer": "ipython3",
   "version": "3.7.1"
  }
 },
 "nbformat": 4,
 "nbformat_minor": 2
}
