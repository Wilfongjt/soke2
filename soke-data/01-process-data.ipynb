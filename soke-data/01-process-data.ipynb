{
 "cells": [
  {
   "cell_type": "markdown",
   "metadata": {},
   "source": [
    "# Processing\n",
    "Data Processing \n",
    "\n",
    "# Data\n",
    "* Data is the content of documents aka files\n",
    "* The data is stored in one or more ASCII text files\n",
    "    * The files have the extention .txt\n",
    "    * The text is formated into paragraphs\n",
    "    * Each paragraph is terminated with an end of line\n",
    "\n",
    "# Process\n",
    "\n",
    "## Documents\n",
    "\n",
    "* Documents are ASCII text files\n",
    "* A document contains plain text\n",
    "* A document is a collection of paragraphs\n",
    "* A paragraph is terminated by an end-of-line\n",
    "* A paragraph is a collection of space delimited words\n",
    "\n",
    "## Organize Documents and Create Folders\n",
    "* Documents are placed in a single folder\n",
    "    * The folder has the same name as the destination table\n",
    "\n",
    "## Data-fy Documents\n",
    "* Split each document into many JSON Documents\n",
    "* JSON Document is no more than 412KB\n",
    "* For each word create PutRequest\n",
    "\n",
    "\n",
    "## Stage Data for Loading\n",
    "* \n",
    "* \n",
    "\n",
    "* Words are converted to Items \n",
    "* Items are JSON\n",
    "* Items are enclosed in PutRequest\n",
    "* PutRequest is JSON\n",
    "\n",
    "* Blocks are a JSON array of Items\n",
    "* blocks are less than 412kb in size with less than 25 Items\n",
    "* Blocks are written to an output folder\n",
    "* Blocks are named in a sequence\n",
    "* the block namimg sequence is a number combined with the table name (eg, 1.movies.json)\n",
    "\n",
    "* The destination table is a single  \n",
    "\n",
    "\n",
    "\n",
    "## Configure Data Location"
   ]
  },
  {
   "cell_type": "markdown",
   "metadata": {},
   "source": [
    "## Example Text\n",
    "```\n",
    "michigan opioid laws frequently asked questions (faqs)\n",
    "```\n",
    "\n",
    "## JSON Document\n",
    "```\n",
    "{\"documents\": [\n",
    "    {\"PutRequest\": \n",
    "        {\"Item\": \n",
    "            { \"pk\": {\"S\": \"d.1\"}, \n",
    "              \"sk\": {\"S\": \"michigan.1\"}, \n",
    "              \"data\": {\"S\": \"michigan opioid laws frequently asked questions (faqs)\"}\n",
    "            }\n",
    "        }\n",
    "    },\n",
    "    {\"PutRequest\": \n",
    "        {\"Item\": \n",
    "            { \"pk\": {\"S\": \"d.1\"}, \n",
    "              \"sk\": {\"S\": \"opioid.1\"}, \n",
    "              \"data\": {\"S\": \"michigan opioid laws frequently asked questions (faqs)\"}\n",
    "            }\n",
    "        }\n",
    "    },\n",
    "    ...\n",
    "  ]\n",
    "}  \n",
    "```\n",
    "\n",
    "```\n",
    "\n",
    "{\"documents\": [\n",
    "    {\"PutRequest\": \n",
    "        {\"Item\": \n",
    "            { \"pk\": {\"S\": \"d.1\"}, \n",
    "              \"sk\": {\"S\": \"s.1\"}, \n",
    "              \"data\": {\"S\": \"michigan opioid laws frequently asked questions (faqs)\"}\n",
    "            }\n",
    "        }\n",
    "    }    \n",
    "}\n",
    "```"
   ]
  },
  {
   "cell_type": "markdown",
   "metadata": {},
   "source": [
    "## Issues\n",
    "\n",
    "* need to make typifyItem go deep into JSON\n",
    "* need to create version that creates, reads, writes, updates REMOTE aws tables\n",
    "* need to convert the keys from a # seperator to . separator d#1 goes to d.1\n",
    "* 2019-06-01 need to setup (developement, test, prod) versions of tables\n",
    "\n"
   ]
  },
  {
   "cell_type": "code",
   "execution_count": 1,
   "metadata": {},
   "outputs": [],
   "source": [
    "from dotenv import load_dotenv\n",
    "load_dotenv(verbose=True)\n",
    "import os\n",
    "from os.path import isfile, join\n",
    "from pprint import pprint\n",
    "import json\n",
    "import interface \n",
    "import json\n",
    "\n",
    "from util import Util\n",
    "from data_process_interface import DataProcessInterface\n",
    "from project import Project\n",
    "\n",
    "\n",
    "util = Util()"
   ]
  },
  {
   "cell_type": "code",
   "execution_count": 2,
   "metadata": {},
   "outputs": [],
   "source": [
    "# Custom Processes\n",
    "from document_process import DocumentProcess\n",
    "from movie_process import MovieProcess"
   ]
  },
  {
   "cell_type": "code",
   "execution_count": 3,
   "metadata": {},
   "outputs": [],
   "source": [
    "def dep_writeProcessConfig(process_config):\n",
    "    with open('process_config.json', 'w') as f: \n",
    "        f.write(json.dumps(process_config)) "
   ]
  },
  {
   "cell_type": "code",
   "execution_count": 4,
   "metadata": {},
   "outputs": [
    {
     "name": "stdout",
     "output_type": "stream",
     "text": [
      "{'key': 'documents', 'region': 'us-east-1', 'suffix': 'dev', 'target': 'remote'}\n"
     ]
    }
   ],
   "source": [
    "process_config_documents = {\n",
    "                  'key': 'documents', \n",
    "                  'suffix': 'dev', \n",
    "                  'region': 'us-east-1', \n",
    "                  'target': 'remote'}\n",
    "\n",
    "process_config_movies = {\n",
    "                  'key': 'movies',    \n",
    "                  'suffix': 'dev', \n",
    "                  'region': 'us-east-1', \n",
    "                  'target': 'remote'}\n",
    "# set current process\n",
    "#process_config = process_config_movies\n",
    "process_config = process_config_documents\n",
    "\n",
    "process_data = DocumentProcess(process_config['key'])\n",
    "\n",
    "pprint(process_config)\n",
    "\n",
    "util.writeProcessConfig(process_config)\n"
   ]
  },
  {
   "cell_type": "code",
   "execution_count": 5,
   "metadata": {},
   "outputs": [
    {
     "name": "stdout",
     "output_type": "stream",
     "text": [
      "Document Inputs:  ../../../data/documents/input\n",
      "Outputs:  ../../../data/documents/output\n",
      "Inputs documents .txt\n"
     ]
    }
   ],
   "source": [
    "# Show Project Folder\n",
    "\n",
    "print('Document Inputs: ', util.getInputFolder(process_config['key']))\n",
    "print('Outputs: ', util.getOutputFolder(process_config['key'])) \n",
    "print('Inputs', process_config['key'], '.txt')\n"
   ]
  },
  {
   "cell_type": "code",
   "execution_count": 6,
   "metadata": {},
   "outputs": [],
   "source": [
    "import ipywidgets as widgets\n",
    "from IPython.display import display\n",
    "   \n",
    "class ProcessButtons:\n",
    "    def __init__(self, process_config_key, process_data):\n",
    "        # self.stubDB = stubDB\n",
    "        self.table_name_key = process_config_key\n",
    "        self.process = process_data\n",
    "        \n",
    "        self.buttons=[]\n",
    "        \n",
    "    def new_on_button_clicked(self, b):\n",
    "        Project(\n",
    "            self.table_name_key, \\\n",
    "            '../../../data/{}/'.format( self.table_name_key ) \\\n",
    "        ).run()\n",
    "        \n",
    "    def process_on_button_clicked(self, b):\n",
    "        # print('hi')\n",
    "        self.process.run()\n",
    "        \n",
    "     \n",
    "    def display(self):\n",
    "        # NEW PROJECT\n",
    "        self.buttons.append(widgets.Button(description=\"Create Data Project\"))\n",
    "        self.buttons[0].on_click(self.new_on_button_clicked)    \n",
    "        # PROCESS\n",
    "        self.buttons.append( widgets.Button(description=\"Process {}\".format(self.table_name_key)))\n",
    "        self.buttons[1].on_click(self.process_on_button_clicked)    \n",
    "        \n",
    "        for b in self.buttons:\n",
    "            display(b)\n",
    "        \n",
    "        return self\n",
    "    "
   ]
  },
  {
   "cell_type": "code",
   "execution_count": 7,
   "metadata": {},
   "outputs": [
    {
     "data": {
      "application/vnd.jupyter.widget-view+json": {
       "model_id": "5ad98408cc2e47ecaf0d1832af8f2f76",
       "version_major": 2,
       "version_minor": 0
      },
      "text/plain": [
       "Button(description='Create Data Project', style=ButtonStyle())"
      ]
     },
     "metadata": {},
     "output_type": "display_data"
    },
    {
     "data": {
      "application/vnd.jupyter.widget-view+json": {
       "model_id": "16339d78c7054e3c8f817193301ac553",
       "version_major": 2,
       "version_minor": 0
      },
      "text/plain": [
       "Button(description='Process documents', style=ButtonStyle())"
      ]
     },
     "metadata": {},
     "output_type": "display_data"
    },
    {
     "name": "stdout",
     "output_type": "stream",
     "text": [
      "file name:  ../../../data/documents/input/MICHIGAN OPIOID LAWS Frequently Asked Questions.txt\n",
      "../../../data/documents/input/MICHIGAN OPIOID LAWS Frequently Asked Questions.txt starts in ../../../data/documents/output/0.documents.json\n",
      "file name:  ../../../data/documents/input/PHARMACY – CONTROLLED SUBSTANCES.txt\n",
      "../../../data/documents/input/PHARMACY – CONTROLLED SUBSTANCES.txt starts in ../../../data/documents/output/276.documents.json\n"
     ]
    }
   ],
   "source": [
    "# Buttons\n",
    "processButtons =  ProcessButtons(process_config['key'], process_data).display()    "
   ]
  }
 ],
 "metadata": {
  "kernelspec": {
   "display_name": "Python 3",
   "language": "python",
   "name": "python3"
  },
  "language_info": {
   "codemirror_mode": {
    "name": "ipython",
    "version": 3
   },
   "file_extension": ".py",
   "mimetype": "text/x-python",
   "name": "python",
   "nbconvert_exporter": "python",
   "pygments_lexer": "ipython3",
   "version": "3.7.1"
  }
 },
 "nbformat": 4,
 "nbformat_minor": 2
}
